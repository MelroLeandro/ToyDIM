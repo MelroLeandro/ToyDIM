{
 "cells": [
  {
   "cell_type": "markdown",
   "metadata": {},
   "source": [
    "# Test using Jupyter"
   ]
  },
  {
   "cell_type": "markdown",
   "metadata": {},
   "source": [
    "%-------------------------------------------------------------------------%\n",
    "%------------------------------Multibody Dynamic--------------------------%\n",
    "%------------------------------A toy system-------------------------------% \n",
    "% Problem: 12 spherical bodies in a box\n",
    "% Author: Carlos Leandro\n",
    "% Data: 2Abr16\n",
    "% Version: 0.0\n",
    "%-------------------------------------------------------------------------%"
   ]
  },
  {
   "cell_type": "code",
   "execution_count": 8,
   "metadata": {
    "collapsed": false
   },
   "outputs": [],
   "source": [
    "clc\n",
    "clear all"
   ]
  },
  {
   "cell_type": "code",
   "execution_count": 9,
   "metadata": {
    "collapsed": false
   },
   "outputs": [
    {
     "name": "stdout",
     "output_type": "stream",
     "text": [
      "[\bWarning: Function isrow has the same name as a MATLAB builtin. We suggest you\n",
      "rename the function to avoid a potential name conflict.]\b \n",
      "[\b> In path at 109\n",
      "  In addpath at 86\n",
      "  In pymat_eval at 31\n",
      "  In matlabserver at 24]\b \n",
      "[\bWarning: Function isrow has the same name as a MATLAB builtin. We suggest you\n",
      "rename the function to avoid a potential name conflict.]\b \n",
      "[\b> In path at 109\n",
      "  In addpath at 86\n",
      "  In pymat_eval at 31\n",
      "  In matlabserver at 24]\b\n"
     ]
    }
   ],
   "source": [
    "addpath('./dynamic')\n",
    "addpath('./contact')"
   ]
  },
  {
   "cell_type": "markdown",
   "metadata": {},
   "source": [
    "# Global variables "
   ]
  },
  {
   "cell_type": "code",
   "execution_count": 10,
   "metadata": {
    "collapsed": true
   },
   "outputs": [],
   "source": [
    "global World % used to describe the world \n",
    "global BodyList % List with body identifiers\n",
    "global JointList % List with dynamic constrains identifiers\n",
    "global Bodies % Structure with every rigid bodies in the system\n",
    "global Joints % Structure with dynamics constrains \n",
    "global Motors\n",
    "global Motor\n",
    "\n",
    "global TT Er"
   ]
  },
  {
   "cell_type": "markdown",
   "metadata": {},
   "source": [
    "# World parameters"
   ]
  },
  {
   "cell_type": "markdown",
   "metadata": {},
   "source": [
    "Force to be applied on each body"
   ]
  },
  {
   "cell_type": "code",
   "execution_count": 11,
   "metadata": {
    "collapsed": true
   },
   "outputs": [],
   "source": [
    "World.gravity=[0;0;-0.00981];"
   ]
  },
  {
   "cell_type": "markdown",
   "metadata": {},
   "source": [
    "Baumgarte Method"
   ]
  },
  {
   "cell_type": "code",
   "execution_count": 12,
   "metadata": {
    "collapsed": true
   },
   "outputs": [],
   "source": [
    "World.alpha=5.0;\n",
    "World.beta=5.0;\n",
    "World.K=1000;"
   ]
  },
  {
   "cell_type": "markdown",
   "metadata": {},
   "source": [
    "Debugging information"
   ]
  },
  {
   "cell_type": "code",
   "execution_count": 13,
   "metadata": {
    "collapsed": true
   },
   "outputs": [],
   "source": [
    "World.C1=[];\n",
    "World.Err=[];\n",
    "\n",
    "World.delta = 0.01;\n",
    "World.Error = 1e-7;\n",
    "World.debuging = false;\n",
    "World.contact = false;\n",
    "\n",
    "World.dist=[];\n",
    "\n",
    "World.FMNcontact = true;\n",
    "World.FMNdensity = false;\n",
    "\n",
    "World.box = [0 0 -4 ; 4 4 8];\n",
    "\n",
    "World.Nx=(World.box(2,1)-World.box(1,1))/World.delta;\n",
    "World.Ny=(World.box(2,2)-World.box(1,2))/World.delta;\n",
    "World.Nz=(World.box(2,3)-World.box(1,3))/World.delta;\n",
    "\n",
    "World.Min=[2^log2(World.Nx)-1 2^log2(World.Ny)-1 2^log2(World.Nz)-1]';\n",
    "World.Max=[2^(log2(World.Nx)+1)+1 2^(log2(World.Ny)+1)+1 2^(log2(World.Nz)+1)+1]';\n",
    "\n",
    "World.ecoder_x=zeros(1,fix(World.Max(1)));\n",
    "World.INTecoder_x=zeros(1,fix(World.Max(1)));\n",
    "World.ecoder_y=zeros(1,fix(World.Max(2)));\n",
    "World.INTecoder_y=zeros(1,fix(World.Max(2)));\n",
    "World.ecoder_z=zeros(1,fix(World.Max(3)));\n",
    "World.INTecoder_z=zeros(1,fix(World.Max(3)));"
   ]
  },
  {
   "cell_type": "markdown",
   "metadata": {},
   "source": [
    "Flexible Multibody system"
   ]
  },
  {
   "cell_type": "code",
   "execution_count": 14,
   "metadata": {
    "collapsed": true
   },
   "outputs": [],
   "source": [
    "World.Flexible=false;\n",
    "World.ElasticNet = false;  % force are generated using and elastic network\n",
    "World.Regularistion = false;"
   ]
  },
  {
   "cell_type": "markdown",
   "metadata": {},
   "source": [
    "# Multibody system configuration"
   ]
  },
  {
   "cell_type": "code",
   "execution_count": 15,
   "metadata": {
    "collapsed": true
   },
   "outputs": [],
   "source": [
    "BodyList={};       % the initial list of bodies is empty\n",
    "JointList={'Fix'}; % list of dynamic constrains\n",
    "Motors={};"
   ]
  },
  {
   "cell_type": "markdown",
   "metadata": {},
   "source": [
    "## Ground: body C1\n",
    "Geometry"
   ]
  },
  {
   "cell_type": "code",
   "execution_count": 16,
   "metadata": {
    "collapsed": true
   },
   "outputs": [],
   "source": [
    "Bodies.Ground.geo.m=1; % rod mass\n",
    "Bodies.Ground.geo.h=1; % rod length\n",
    "Bodies.Ground.geo.r=1; % rod radius\n",
    "Bodies.Ground.flexible=false;"
   ]
  },
  {
   "cell_type": "markdown",
   "metadata": {},
   "source": [
    "Inertia tensor for body C1"
   ]
  },
  {
   "cell_type": "code",
   "execution_count": 17,
   "metadata": {
    "collapsed": true
   },
   "outputs": [],
   "source": [
    "Bodies.Ground.geo.JP=diag([1/12*(Bodies.Ground.geo.m*(3*Bodies.Ground.geo.r^2+Bodies.Ground.geo.h^2)),1/2*(Bodies.Ground.geo.m*Bodies.Ground.geo.r^2),...\n",
    "     1/12*(Bodies.Ground.geo.m*(3*Bodies.Ground.geo.r^2+Bodies.Ground.geo.h^2))]);"
   ]
  },
  {
   "cell_type": "markdown",
   "metadata": {},
   "source": [
    "List of points in Ground"
   ]
  },
  {
   "cell_type": "code",
   "execution_count": 18,
   "metadata": {
    "collapsed": true
   },
   "outputs": [],
   "source": [
    "Bodies.Ground.PointsList={'BoxC'};\n",
    "Bodies.Ground.Points.BoxC.sPp=[0,0,0]'; % local frame coordinates"
   ]
  },
  {
   "cell_type": "markdown",
   "metadata": {},
   "source": [
    "List of vectors in Ground"
   ]
  },
  {
   "cell_type": "code",
   "execution_count": 19,
   "metadata": {
    "collapsed": true
   },
   "outputs": [],
   "source": [
    "Bodies.Ground.VectorsList={};"
   ]
  },
  {
   "cell_type": "markdown",
   "metadata": {},
   "source": [
    "Body initial values"
   ]
  },
  {
   "cell_type": "code",
   "execution_count": 20,
   "metadata": {
    "collapsed": true
   },
   "outputs": [],
   "source": [
    "Bodies.Ground.r=[0,0,0]'; \n",
    "Bodies.Ground.r_d=[0,0,0]'; \n",
    "Bodies.Ground.r_dd=[0,0,0]'; \n",
    "Bodies.Ground.p=[1,0,0,0]'; \n",
    "Bodies.Ground.p_d=[0,0,0,0]'; \n",
    "Bodies.Ground.w=[0,0,0]'; \n",
    "Bodies.Ground.wp=[0,0,0]'; \n",
    "Bodies.Ground.np=[0,0,0]';\n",
    "\n",
    "Bodies.Ground.contact=true;\n",
    "Bodies.Ground.box_center ='BoxC';\n",
    "Bodies.Ground.box = [0 0 0 ; 4 4 0.1];\n",
    "Bodies.Ground.shape = @(x) abs(x(1))<0 || abs(x(1))>4 || abs(x(2))<0 || abs(x(2))>4 || abs(x(3))<.1;\n",
    "Bodies.Ground.normal = @(x)[0 0 1]';\n",
    "Bodies.Ground.ord=1;\n",
    "Bodies.Ground.exists=true;\n",
    "\n",
    "% debuging forces\n",
    "\n",
    "Bodies.Ground.forca=[];"
   ]
  },
  {
   "cell_type": "markdown",
   "metadata": {},
   "source": [
    "## Body 12 spheres\n",
    "Geometry"
   ]
  },
  {
   "cell_type": "code",
   "execution_count": 21,
   "metadata": {
    "collapsed": true
   },
   "outputs": [],
   "source": [
    "init_1=.2;\n",
    "init_2=.2;\n",
    "init_3=1.0;\n",
    "\n",
    "inc=.3;\n",
    "\n",
    "cont_1=init_1;\n",
    "cont_2=init_2;\n",
    "cont_3=init_3;\n",
    "    \n",
    "for i=1: 1 % 2 % 4 .. 138.4674 12 .. 169.5493\n",
    "    name=sprintf('C%d',i);\n",
    "    Bodies.(name).geo.m=1; % rod mass\n",
    "    Bodies.(name).geo.h=1; % rod length\n",
    "    Bodies.(name).geo.r=1; % rod radius\n",
    "    \n",
    "    Bodies.(name).flexible=false;\n",
    "\n",
    "    % Inertia tensor for spheres\n",
    "    Bodies.(name).geo.JP=diag([1/12*(Bodies.(name).geo.m*(3*Bodies.(name).geo.r^2+Bodies.(name).geo.h^2)),1/2*(Bodies.(name).geo.m*Bodies.(name).geo.r^2),...\n",
    "         1/12*(Bodies.(name).geo.m*(3*Bodies.(name).geo.r^2+Bodies.(name).geo.h^2))]);\n",
    "\n",
    "    %List of points in each sphere\n",
    "    Bodies.(name).PointsList={'BoxC'};\n",
    "    Bodies.(name).Points.BoxC.sPp=[0,0,0]'; % local frame coordinates\n",
    "\n",
    "    %List of vectors in each sphere\n",
    "    Bodies.(name).VectorsList={};\n",
    "\n",
    "    % Body initial values\n",
    "    Bodies.(name).r=[cont_1,cont_2,cont_3]';\n",
    "    \n",
    "    if cont_1>3*init_1\n",
    "        cont_1=init_1;\n",
    "        cont_3=cont_3+inc;\n",
    "    end\n",
    "    \n",
    "    if cont_3>3*init_3\n",
    "        cont_1=init_1;\n",
    "        cont_3=init_3;\n",
    "        cont_1=cont_1+inc;\n",
    "    end\n",
    "    \n",
    "    cont_3=cont_3+inc;\n",
    "    \n",
    "    \n",
    "    Bodies.(name).r_d=[0,0,0]'; \n",
    "    Bodies.(name).r_dd=[0,0,0]'; \n",
    "    Bodies.(name).p=[1,0,0,0]'; \n",
    "    Bodies.(name).p_d=[0,0,0,0]'; \n",
    "    Bodies.(name).w=[0,0,0]'; \n",
    "    Bodies.(name).wp=[0,0,0]'; \n",
    "    Bodies.(name).np=[0,0,0]';\n",
    "    \n",
    "    Bodies.(name).contact=true;\n",
    "    Bodies.(name).box_center ='BoxC';\n",
    "    Bodies.(name).box = [-.2 -.2 -.2 ; .2 .2 .2];\n",
    "    Bodies.(name).shape = @(x)x'*x< 0.01 ;\n",
    "    Bodies.(name).normal = @(x)x/norm(x);\n",
    "    Bodies.(name).ord=i+1;\n",
    "    Bodies.(name).exists=true;\n",
    "    \n",
    "    % debuging forces\n",
    "    Bodies.(name).forca=[];\n",
    "end"
   ]
  },
  {
   "cell_type": "markdown",
   "metadata": {},
   "source": [
    "# System dynamic constrains\n",
    "\n",
    "Fixing ground"
   ]
  },
  {
   "cell_type": "code",
   "execution_count": 22,
   "metadata": {
    "collapsed": true
   },
   "outputs": [],
   "source": [
    "Joints.Fix.type='Fix';      % fix body in the space\n",
    "Joints.Fix.body_1='Ground'; % body identifier\n"
   ]
  },
  {
   "cell_type": "markdown",
   "metadata": {},
   "source": [
    "Transport Multibody system information"
   ]
  },
  {
   "cell_type": "code",
   "execution_count": 23,
   "metadata": {
    "collapsed": true
   },
   "outputs": [],
   "source": [
    "BodyList=fieldnames(Bodies);\n",
    "\n",
    "World.nbodies = length(BodyList);  % number of bodies in the system \n",
    "World.njoints = length(JointList); % number of joints in the system\n",
    "World.nmotors = length(Motors);    % number of motors in the system\n",
    "World.NNodes  = 0;                 % count number of nodes in the system\n",
    "World.Msize   = World.NNodes*6+World.nbodies*6; % mass matrix size"
   ]
  },
  {
   "cell_type": "markdown",
   "metadata": {},
   "source": [
    "# Mass matrix assembly"
   ]
  },
  {
   "cell_type": "code",
   "execution_count": 25,
   "metadata": {
    "collapsed": true
   },
   "outputs": [],
   "source": [
    "y_d=[];\n",
    "\n",
    "nbodies=length(BodyList);\n",
    "World.M=zeros(nbodies*6);\n",
    "\n",
    "for indexE=1:nbodies\n",
    "    BodyName=BodyList{indexE};\n",
    "    Bodies.(BodyName).g=World.gravity;\n",
    "    O=zeros(3,3);\n",
    "    index=(indexE-1)*6+1;\n",
    "    \n",
    "    Bodies.(BodyName).index=index; % body index in the mass matrix\n",
    "    \n",
    "    % recursive definition for the initial force\n",
    "    y_d=[y_d; Bodies.(BodyName).r;Bodies.(BodyName).p;Bodies.(BodyName).r_d;Bodies.(BodyName).w];\n",
    "    \n",
    "end"
   ]
  },
  {
   "cell_type": "markdown",
   "metadata": {},
   "source": [
    "# Start simulation"
   ]
  },
  {
   "cell_type": "markdown",
   "metadata": {},
   "source": [
    "Seting integration parameters"
   ]
  },
  {
   "cell_type": "code",
   "execution_count": 26,
   "metadata": {
    "collapsed": false
   },
   "outputs": [
    {
     "name": "stdout",
     "output_type": "stream",
     "text": [
      "ODE45\n",
      "\n",
      "13 successful steps\n",
      "0 failed attempts\n",
      "79 function evaluations\n",
      "\n",
      "timeode45 =\n",
      "\n",
      "   3.1505e+03\n"
     ]
    }
   ],
   "source": [
    "t0=0;    % Initial time\n",
    "t=4.5; % Final time 7.22\n",
    "step=0.01; % Time-step\n",
    "\n",
    "\n",
    "tspan = [t0:step:t];\n",
    "\n",
    "% Set integrator and its parameters\n",
    "\n",
    "fprintf('\\n\\n ODE45\\n\\n')\n",
    "\n",
    "tol=1e-5;\n",
    "options=odeset('RelTol',tol,'Stats','on','OutputFcn',@odeOUT); \n",
    "\n",
    "tic\n",
    "[T, yT]= ode45(@updateaccel, tspan, y_d, options);\n",
    "timeode45=toc"
   ]
  },
  {
   "cell_type": "markdown",
   "metadata": {},
   "source": [
    "# Graphic output"
   ]
  },
  {
   "cell_type": "code",
   "execution_count": 27,
   "metadata": {
    "collapsed": false
   },
   "outputs": [
    {
     "data": {
      "image/png": "[encoded data removed]",
      "text/plain": [
       "<IPython.core.display.Image object>"
      ]
     },
     "metadata": {},
     "output_type": "display_data"
    }
   ],
   "source": [
    "fig=figure;\n",
    "\n",
    "for index=1:nbodies \n",
    "    BodyName=BodyList{index};\n",
    "    plot(yT(:,(index-1)*13+2), yT(:,(index-1)*13+3))\n",
    "    \n",
    "    hold on\n",
    "end\n",
    "xlabel('y'),ylabel('z')\n",
    "% print(fig,'Positionyz','-dpng')\n",
    "\n",
    "hold off"
   ]
  },
  {
   "cell_type": "code",
   "execution_count": 28,
   "metadata": {
    "collapsed": false
   },
   "outputs": [
    {
     "data": {
      "image/png": "[encoded data removed]",
      "text/plain": [
       "<IPython.core.display.Image object>"
      ]
     },
     "metadata": {},
     "output_type": "display_data"
    }
   ],
   "source": [
    "fig=figure;\n",
    "for index=1:nbodies\n",
    "    BodyName=BodyList{index};\n",
    "    plot(yT(:,(index-1)*13+1), yT(:,(index-1)*13+3))   \n",
    "    hold on\n",
    "end\n",
    "xlabel('x'),ylabel('z')\n",
    "% print(fig,'Positionxz','-dpng')\n",
    "hold off"
   ]
  },
  {
   "cell_type": "code",
   "execution_count": 29,
   "metadata": {
    "collapsed": false
   },
   "outputs": [
    {
     "data": {
      "image/png": "[encoded data removed]",
      "text/plain": [
       "<IPython.core.display.Image object>"
      ]
     },
     "metadata": {},
     "output_type": "display_data"
    }
   ],
   "source": [
    "% Velocidades**2\n",
    "fig=figure;\n",
    "for indexE=1:nbodies\n",
    "    L=yT(:,(indexE-1)*13+8:(indexE-1)*13+10);\n",
    "    v=[];\n",
    "    for i=1:length(L)\n",
    "        v=[v L(i,:)*L(i,:)'];\n",
    "    end\n",
    "    plot(T, v) \n",
    "    hold on\n",
    "end\n",
    "xlabel('T'),ylabel('v^2[m/s]')\n",
    "%print(fig,'velocity','-dpng')\n",
    "hold off"
   ]
  },
  {
   "cell_type": "code",
   "execution_count": 30,
   "metadata": {
    "collapsed": false
   },
   "outputs": [
    {
     "name": "stderr",
     "output_type": "stream",
     "text": [
      "Undefined function or variable 'Err'.\n"
     ]
    }
   ],
   "source": [
    "% Error on the system constrains\n",
    "fig=figure;\n",
    "plot( Err) \n",
    "xlabel('iteration'),ylabel('Error')\n",
    "\n",
    "hold off"
   ]
  },
  {
   "cell_type": "code",
   "execution_count": 31,
   "metadata": {
    "collapsed": false
   },
   "outputs": [
    {
     "data": {
      "image/png": "[encoded data removed]",
      "text/plain": [
       "<IPython.core.display.Image object>"
      ]
     },
     "metadata": {},
     "output_type": "display_data"
    }
   ],
   "source": [
    "% z vs time\n",
    "fig=figure;\n",
    "for indexE=1:nbodies\n",
    "    L=yT(:,(indexE-1)*13+3);\n",
    "    plot(T, L) \n",
    "    hold on\n",
    "end\n",
    "xlabel('T'),ylabel('z')"
   ]
  },
  {
   "cell_type": "markdown",
   "metadata": {
    "collapsed": true
   },
   "source": [
    "##  3D slider-crank"
   ]
  },
  {
   "cell_type": "code",
   "execution_count": 6,
   "metadata": {
    "collapsed": false
   },
   "outputs": [
    {
     "data": {
      "image/png": "[encoded data removed]",
      "text/plain": [
       "<IPython.core.display.Image object>"
      ]
     },
     "metadata": {},
     "output_type": "display_data"
    },
    {
     "data": {
      "image/png": "[encoded data removed]",
      "text/plain": [
       "<IPython.core.display.Image object>"
      ]
     },
     "metadata": {},
     "output_type": "display_data"
    },
    {
     "data": {
      "image/png": "[encoded data removed]",
      "text/plain": [
       "<IPython.core.display.Image object>"
      ]
     },
     "metadata": {},
     "output_type": "display_data"
    },
    {
     "data": {
      "image/png": "[encoded data removed]",
      "text/plain": [
       "<IPython.core.display.Image object>"
      ]
     },
     "metadata": {},
     "output_type": "display_data"
    },
    {
     "data": {
      "image/png": "[encoded data removed]",
      "text/plain": [
       "<IPython.core.display.Image object>"
      ]
     },
     "metadata": {},
     "output_type": "display_data"
    },
    {
     "data": {
      "image/png": "[encoded data removed]",
      "text/plain": [
       "<IPython.core.display.Image object>"
      ]
     },
     "metadata": {},
     "output_type": "display_data"
    },
    {
     "data": {
      "image/png": "[encoded data removed]",
      "text/plain": [
       "<IPython.core.display.Image object>"
      ]
     },
     "metadata": {},
     "output_type": "display_data"
    },
    {
     "data": {
      "image/png": "[encoded data removed]",
      "text/plain": [
       "<IPython.core.display.Image object>"
      ]
     },
     "metadata": {},
     "output_type": "display_data"
    },
    {
     "data": {
      "image/png": "[encoded data removed]",
      "text/plain": [
       "<IPython.core.display.Image object>"
      ]
     },
     "metadata": {},
     "output_type": "display_data"
    },
    {
     "data": {
      "image/png": "[encoded data removed]",
      "text/plain": [
       "<IPython.core.display.Image object>"
      ]
     },
     "metadata": {},
     "output_type": "display_data"
    },
    {
     "name": "stdout",
     "output_type": "stream",
     "text": [
      "[\bWarning: Name is nonexistent or not a directory: ../dynamic]\b \n",
      "[\b> In path at 109\n",
      "  In addpath at 86\n",
      "  In Slieder_Crank_v01 at 15\n",
      "  In pymat_eval at 31\n",
      "  In matlabserver at 24]\b \n",
      "\n",
      "\n",
      " ODE45\n",
      "\n",
      "252 successful steps\n",
      "0 failed attempts\n",
      "1513 function evaluations\n",
      "\n",
      "timeode45 =\n",
      "\n",
      "    5.2265\n"
     ]
    }
   ],
   "source": [
    "Slieder_Crank_v01"
   ]
  },
  {
   "cell_type": "markdown",
   "metadata": {},
   "source": [
    "## 3D slider-crank with clearance"
   ]
  },
  {
   "cell_type": "code",
   "execution_count": 6,
   "metadata": {
    "collapsed": false,
    "scrolled": true
   },
   "outputs": [
    {
     "data": {
      "image/png": "[encoded data removed]",
      "text/plain": [
       "<IPython.core.display.Image object>"
      ]
     },
     "metadata": {},
     "output_type": "display_data"
    },
    {
     "data": {
      "image/png": "[encoded data removed]",
      "text/plain": [
       "<IPython.core.display.Image object>"
      ]
     },
     "metadata": {},
     "output_type": "display_data"
    },
    {
     "data": {
      "image/png": "[encoded data removed]",
      "text/plain": [
       "<IPython.core.display.Image object>"
      ]
     },
     "metadata": {},
     "output_type": "display_data"
    },
    {
     "data": {
      "image/png": "[encoded data removed]",
      "text/plain": [
       "<IPython.core.display.Image object>"
      ]
     },
     "metadata": {},
     "output_type": "display_data"
    },
    {
     "data": {
      "image/png": "[encoded data removed]",
      "text/plain": [
       "<IPython.core.display.Image object>"
      ]
     },
     "metadata": {},
     "output_type": "display_data"
    },
    {
     "data": {
      "image/png": "[encoded data removed]",
      "text/plain": [
       "<IPython.core.display.Image object>"
      ]
     },
     "metadata": {},
     "output_type": "display_data"
    },
    {
     "data": {
      "image/png": "[encoded data removed]",
      "text/plain": [
       "<IPython.core.display.Image object>"
      ]
     },
     "metadata": {},
     "output_type": "display_data"
    },
    {
     "data": {
      "image/png": "[encoded data removed]",
      "text/plain": [
       "<IPython.core.display.Image object>"
      ]
     },
     "metadata": {},
     "output_type": "display_data"
    },
    {
     "data": {
      "image/png": "[encoded data removed]",
      "text/plain": [
       "<IPython.core.display.Image object>"
      ]
     },
     "metadata": {},
     "output_type": "display_data"
    },
    {
     "data": {
      "image/png": "[encoded data removed]",
      "text/plain": [
       "<IPython.core.display.Image object>"
      ]
     },
     "metadata": {},
     "output_type": "display_data"
    },
    {
     "data": {
      "image/png": "[encoded data removed]",
      "text/plain": [
       "<IPython.core.display.Image object>"
      ]
     },
     "metadata": {},
     "output_type": "display_data"
    },
    {
     "data": {
      "image/png": "[encoded data removed]",
      "text/plain": [
       "<IPython.core.display.Image object>"
      ]
     },
     "metadata": {},
     "output_type": "display_data"
    },
    {
     "name": "stdout",
     "output_type": "stream",
     "text": [
      "ODE45\n",
      "\n",
      "95691 successful steps\n",
      "69725 failed attempts\n",
      "992497 function evaluations\n",
      "\n",
      "timeode45 =\n",
      "\n",
      "   6.6053e+03\n"
     ]
    }
   ],
   "source": [
    "Slieder_Crank_clearance_v01"
   ]
  },
  {
   "cell_type": "code",
   "execution_count": null,
   "metadata": {
    "collapsed": true
   },
   "outputs": [],
   "source": []
  }
 ],
 "metadata": {
  "kernelspec": {
   "display_name": "Matlab",
   "language": "matlab",
   "name": "matlab"
  },
  "language_info": {
   "file_extension": ".m",
   "help_links": [
    {
     "text": "MetaKernel Magics",
     "url": "https://github.com/calysto/metakernel/blob/master/metakernel/magics/README.md"
    }
   ],
   "mimetype": "text/x-octave",
   "name": "matlab",
   "version": "0.9.2"
  }
 },
 "nbformat": 4,
 "nbformat_minor": 0
}
